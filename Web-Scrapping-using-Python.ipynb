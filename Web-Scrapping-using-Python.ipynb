{
 "cells": [
  {
   "cell_type": "markdown",
   "metadata": {},
   "source": [
    "### Introduction:\n",
    "\n",
    "Alot of raw data is available in <b>CSV, JSON, XML, and other “standard” formats</b>, an awful lot of published data resides within webpages, embedded within HTML markup (usually within <b>\"table\"</b> tags, but not always). Developing strategies and techniques for extracting usable data from raw HTML is an important skill, and this assignment helps us successfully extract ,<b>“web data”</b> using python techniques and modeling the data in a clean format using techniques such as <b>BeautifulSoup</b> and storing the extracted data in a database using <b>DBcm</b> a Python embedded SQL technique to connect to a database using Python and derive beautiful and meaningful insights related to data and answer some question or business problem in real time."
   ]
  },
  {
   "cell_type": "markdown",
   "metadata": {},
   "source": [
    "### Please install/import below mentioned modules"
   ]
  },
  {
   "cell_type": "code",
   "execution_count": 1,
   "metadata": {},
   "outputs": [],
   "source": [
    "import pandas as pd\n",
    "import numpy as np\n",
    "from datetime import datetime\n",
    "from pandas.io.html import read_html\n",
    "import bs4 as BeautifulSoup\n",
    "import urllib.request as u\n",
    "import DBcm"
   ]
  },
  {
   "cell_type": "markdown",
   "metadata": {},
   "source": [
    "### Let's extract the table we have to work on from below link:"
   ]
  },
  {
   "cell_type": "code",
   "execution_count": 2,
   "metadata": {},
   "outputs": [],
   "source": [
    "webpage = \"https://en.wikipedia.org/wiki/Taoiseach\""
   ]
  },
  {
   "cell_type": "code",
   "execution_count": 3,
   "metadata": {},
   "outputs": [],
   "source": [
    "tables = read_html(webpage, attrs = {'class':'wikitable'})"
   ]
  },
  {
   "cell_type": "code",
   "execution_count": 4,
   "metadata": {},
   "outputs": [
    {
     "name": "stdout",
     "output_type": "stream",
     "text": [
      "Found 1 wikitables\n"
     ]
    }
   ],
   "source": [
    "print(\"Found {num} wikitables\".format(num = len(tables)))"
   ]
  },
  {
   "cell_type": "markdown",
   "metadata": {},
   "source": [
    "### The extracted dataframe table is stored in a variable name df:"
   ]
  },
  {
   "cell_type": "code",
   "execution_count": 5,
   "metadata": {},
   "outputs": [],
   "source": [
    "df = tables[0]"
   ]
  },
  {
   "cell_type": "code",
   "execution_count": 6,
   "metadata": {
    "scrolled": true
   },
   "outputs": [
    {
     "data": {
      "text/html": [
       "<div>\n",
       "<style scoped>\n",
       "    .dataframe tbody tr th:only-of-type {\n",
       "        vertical-align: middle;\n",
       "    }\n",
       "\n",
       "    .dataframe tbody tr th {\n",
       "        vertical-align: top;\n",
       "    }\n",
       "\n",
       "    .dataframe thead th {\n",
       "        text-align: right;\n",
       "    }\n",
       "</style>\n",
       "<table border=\"1\" class=\"dataframe\">\n",
       "  <thead>\n",
       "    <tr style=\"text-align: right;\">\n",
       "      <th></th>\n",
       "      <th>0</th>\n",
       "      <th>1</th>\n",
       "      <th>2</th>\n",
       "      <th>3</th>\n",
       "      <th>4</th>\n",
       "      <th>5</th>\n",
       "      <th>6</th>\n",
       "      <th>7</th>\n",
       "      <th>8</th>\n",
       "      <th>9</th>\n",
       "      <th>10</th>\n",
       "    </tr>\n",
       "  </thead>\n",
       "  <tbody>\n",
       "    <tr>\n",
       "      <th>0</th>\n",
       "      <td>President of the Executive Council[edit]</td>\n",
       "      <td>President of the Executive Council[edit]</td>\n",
       "      <td>President of the Executive Council[edit]</td>\n",
       "      <td>President of the Executive Council[edit]</td>\n",
       "      <td>President of the Executive Council[edit]</td>\n",
       "      <td>President of the Executive Council[edit]</td>\n",
       "      <td>President of the Executive Council[edit]</td>\n",
       "      <td>President of the Executive Council[edit]</td>\n",
       "      <td>President of the Executive Council[edit]</td>\n",
       "      <td>President of the Executive Council[edit]</td>\n",
       "      <td>President of the Executive Council[edit]</td>\n",
       "    </tr>\n",
       "    <tr>\n",
       "      <th>1</th>\n",
       "      <td>No.</td>\n",
       "      <td>Portrait</td>\n",
       "      <td>Name(Birth–Death)Constituency</td>\n",
       "      <td>Term of office</td>\n",
       "      <td>Term of office</td>\n",
       "      <td>Party</td>\n",
       "      <td>Exec. CouncilComposition</td>\n",
       "      <td>Exec. CouncilComposition</td>\n",
       "      <td>Vice President</td>\n",
       "      <td>Vice President</td>\n",
       "      <td>Dáil(elected)</td>\n",
       "    </tr>\n",
       "    <tr>\n",
       "      <th>2</th>\n",
       "      <td>1</td>\n",
       "      <td>NaN</td>\n",
       "      <td>W. T. Cosgrave(1880–1965)TD for Carlow–Kilkenn...</td>\n",
       "      <td>6 December1922[note 10]</td>\n",
       "      <td>9 March1932</td>\n",
       "      <td>Sinn Féin(Pro-Treaty)</td>\n",
       "      <td>1st</td>\n",
       "      <td>SF (PT) (minority)</td>\n",
       "      <td>NaN</td>\n",
       "      <td>Kevin O'Higgins</td>\n",
       "      <td>3 (1922)</td>\n",
       "    </tr>\n",
       "    <tr>\n",
       "      <th>3</th>\n",
       "      <td>1</td>\n",
       "      <td>NaN</td>\n",
       "      <td>W. T. Cosgrave(1880–1965)TD for Carlow–Kilkenn...</td>\n",
       "      <td>6 December1922[note 10]</td>\n",
       "      <td>9 March1932</td>\n",
       "      <td>Cumann na nGaedheal</td>\n",
       "      <td>2nd</td>\n",
       "      <td>CnG (minority)</td>\n",
       "      <td>NaN</td>\n",
       "      <td>Kevin O'Higgins</td>\n",
       "      <td>4 (1923)</td>\n",
       "    </tr>\n",
       "    <tr>\n",
       "      <th>4</th>\n",
       "      <td>1</td>\n",
       "      <td>NaN</td>\n",
       "      <td>W. T. Cosgrave(1880–1965)TD for Carlow–Kilkenn...</td>\n",
       "      <td>6 December1922[note 10]</td>\n",
       "      <td>9 March1932</td>\n",
       "      <td>Cumann na nGaedheal</td>\n",
       "      <td>3rd</td>\n",
       "      <td>CnG (minority)</td>\n",
       "      <td>NaN</td>\n",
       "      <td>Ernest Blythe</td>\n",
       "      <td>5 (Jun.1927)</td>\n",
       "    </tr>\n",
       "  </tbody>\n",
       "</table>\n",
       "</div>"
      ],
      "text/plain": [
       "                                         0   \\\n",
       "0  President of the Executive Council[edit]   \n",
       "1                                       No.   \n",
       "2                                         1   \n",
       "3                                         1   \n",
       "4                                         1   \n",
       "\n",
       "                                         1   \\\n",
       "0  President of the Executive Council[edit]   \n",
       "1                                  Portrait   \n",
       "2                                       NaN   \n",
       "3                                       NaN   \n",
       "4                                       NaN   \n",
       "\n",
       "                                                  2   \\\n",
       "0           President of the Executive Council[edit]   \n",
       "1                      Name(Birth–Death)Constituency   \n",
       "2  W. T. Cosgrave(1880–1965)TD for Carlow–Kilkenn...   \n",
       "3  W. T. Cosgrave(1880–1965)TD for Carlow–Kilkenn...   \n",
       "4  W. T. Cosgrave(1880–1965)TD for Carlow–Kilkenn...   \n",
       "\n",
       "                                         3   \\\n",
       "0  President of the Executive Council[edit]   \n",
       "1                            Term of office   \n",
       "2                   6 December1922[note 10]   \n",
       "3                   6 December1922[note 10]   \n",
       "4                   6 December1922[note 10]   \n",
       "\n",
       "                                         4   \\\n",
       "0  President of the Executive Council[edit]   \n",
       "1                            Term of office   \n",
       "2                               9 March1932   \n",
       "3                               9 March1932   \n",
       "4                               9 March1932   \n",
       "\n",
       "                                         5   \\\n",
       "0  President of the Executive Council[edit]   \n",
       "1                                     Party   \n",
       "2                     Sinn Féin(Pro-Treaty)   \n",
       "3                       Cumann na nGaedheal   \n",
       "4                       Cumann na nGaedheal   \n",
       "\n",
       "                                         6   \\\n",
       "0  President of the Executive Council[edit]   \n",
       "1                  Exec. CouncilComposition   \n",
       "2                                       1st   \n",
       "3                                       2nd   \n",
       "4                                       3rd   \n",
       "\n",
       "                                         7   \\\n",
       "0  President of the Executive Council[edit]   \n",
       "1                  Exec. CouncilComposition   \n",
       "2                        SF (PT) (minority)   \n",
       "3                            CnG (minority)   \n",
       "4                            CnG (minority)   \n",
       "\n",
       "                                         8   \\\n",
       "0  President of the Executive Council[edit]   \n",
       "1                            Vice President   \n",
       "2                                       NaN   \n",
       "3                                       NaN   \n",
       "4                                       NaN   \n",
       "\n",
       "                                         9   \\\n",
       "0  President of the Executive Council[edit]   \n",
       "1                            Vice President   \n",
       "2                           Kevin O'Higgins   \n",
       "3                           Kevin O'Higgins   \n",
       "4                             Ernest Blythe   \n",
       "\n",
       "                                         10  \n",
       "0  President of the Executive Council[edit]  \n",
       "1                             Dáil(elected)  \n",
       "2                                  3 (1922)  \n",
       "3                                  4 (1923)  \n",
       "4                              5 (Jun.1927)  "
      ]
     },
     "execution_count": 6,
     "metadata": {},
     "output_type": "execute_result"
    }
   ],
   "source": [
    "df.head()"
   ]
  },
  {
   "cell_type": "markdown",
   "metadata": {},
   "source": [
    "### Now, let's drop some unwanted rows and columns "
   ]
  },
  {
   "cell_type": "code",
   "execution_count": 7,
   "metadata": {},
   "outputs": [],
   "source": [
    "df = df.drop(df.index[[10,11]])"
   ]
  },
  {
   "cell_type": "code",
   "execution_count": 8,
   "metadata": {
    "scrolled": false
   },
   "outputs": [],
   "source": [
    "df = df.drop(df.index[0])"
   ]
  },
  {
   "cell_type": "code",
   "execution_count": 9,
   "metadata": {
    "scrolled": false
   },
   "outputs": [],
   "source": [
    "df = df.drop([0], axis=\"columns\")"
   ]
  },
  {
   "cell_type": "code",
   "execution_count": 10,
   "metadata": {
    "scrolled": false
   },
   "outputs": [],
   "source": [
    "df = df.drop([1], axis=\"columns\")"
   ]
  },
  {
   "cell_type": "code",
   "execution_count": 11,
   "metadata": {
    "scrolled": false
   },
   "outputs": [],
   "source": [
    "df = df.drop([6], axis=\"columns\")"
   ]
  },
  {
   "cell_type": "code",
   "execution_count": 12,
   "metadata": {},
   "outputs": [],
   "source": [
    "df = df.drop([7], axis=\"columns\")"
   ]
  },
  {
   "cell_type": "code",
   "execution_count": 13,
   "metadata": {},
   "outputs": [],
   "source": [
    "df = df.drop([8], axis=\"columns\")"
   ]
  },
  {
   "cell_type": "markdown",
   "metadata": {},
   "source": [
    "### Let's split data from columns and separate them in different columns"
   ]
  },
  {
   "cell_type": "code",
   "execution_count": 14,
   "metadata": {},
   "outputs": [],
   "source": [
    "df_name = df[2].str.split('(',expand = True)[0]"
   ]
  },
  {
   "cell_type": "code",
   "execution_count": 15,
   "metadata": {},
   "outputs": [],
   "source": [
    "df_conc1 = df[2].str.split('for ',expand = True)[1].str.split('until',expand = True)[0].str.strip(' ')"
   ]
  },
  {
   "cell_type": "code",
   "execution_count": 16,
   "metadata": {},
   "outputs": [],
   "source": [
    "df_conc2 = df[2].str.split('for ', expand = True)[2].str.split('from', expand = True)[0].str.strip(' ')"
   ]
  },
  {
   "cell_type": "code",
   "execution_count": 17,
   "metadata": {},
   "outputs": [],
   "source": [
    "df_term_start = df[3].str.split('[', expand = True)[0]"
   ]
  },
  {
   "cell_type": "code",
   "execution_count": 18,
   "metadata": {},
   "outputs": [],
   "source": [
    "df_term_end = df[4].str.split('[', expand = True)[0]"
   ]
  },
  {
   "cell_type": "code",
   "execution_count": 19,
   "metadata": {},
   "outputs": [],
   "source": [
    "df_dail = df[10].str.split('(', expand = True)[0]"
   ]
  },
  {
   "cell_type": "code",
   "execution_count": 20,
   "metadata": {},
   "outputs": [],
   "source": [
    "df = pd.concat([df, df_name, df_conc1, df_conc2, df_term_start, df_term_end,df_dail], axis = \"columns\")"
   ]
  },
  {
   "cell_type": "code",
   "execution_count": 21,
   "metadata": {},
   "outputs": [],
   "source": [
    "df = df.drop([2], axis=\"columns\")"
   ]
  },
  {
   "cell_type": "code",
   "execution_count": 22,
   "metadata": {},
   "outputs": [],
   "source": [
    "df = df.drop([3], axis=\"columns\")"
   ]
  },
  {
   "cell_type": "code",
   "execution_count": 23,
   "metadata": {},
   "outputs": [],
   "source": [
    "df = df.drop([4], axis=\"columns\")"
   ]
  },
  {
   "cell_type": "code",
   "execution_count": 24,
   "metadata": {},
   "outputs": [],
   "source": [
    "df = df.drop([10], axis=\"columns\")"
   ]
  },
  {
   "cell_type": "code",
   "execution_count": 25,
   "metadata": {},
   "outputs": [],
   "source": [
    "df.columns = ['Party', 'Vice President', 'Name', 'Constituency 1', 'Constituency 2', 'Office Term Start', 'Office Term End', 'No. of times Elected']"
   ]
  },
  {
   "cell_type": "code",
   "execution_count": 26,
   "metadata": {},
   "outputs": [],
   "source": [
    "df.loc[df['Office Term End'] == \"Incumbent\", 'Office Term End'] = datetime.today()"
   ]
  },
  {
   "cell_type": "code",
   "execution_count": 27,
   "metadata": {},
   "outputs": [],
   "source": [
    "df = df.drop([1], axis = 0)"
   ]
  },
  {
   "cell_type": "code",
   "execution_count": 28,
   "metadata": {},
   "outputs": [],
   "source": [
    "df = df[['Name', 'Constituency 1', 'Constituency 2', 'Office Term Start', 'Office Term End', 'Party', 'Vice President', 'No. of times Elected']]"
   ]
  },
  {
   "cell_type": "code",
   "execution_count": 29,
   "metadata": {},
   "outputs": [],
   "source": [
    "df['Office Term Start'] = pd.to_datetime(df['Office Term Start'], errors = 'coerce')"
   ]
  },
  {
   "cell_type": "code",
   "execution_count": 30,
   "metadata": {},
   "outputs": [],
   "source": [
    "df['Office Term End'] = pd.to_datetime(df['Office Term End'], errors = 'coerce')"
   ]
  },
  {
   "cell_type": "markdown",
   "metadata": {},
   "source": [
    "### Here's our clean and tidy data with birth date missing, lets extract them in belo steps:"
   ]
  },
  {
   "cell_type": "code",
   "execution_count": 31,
   "metadata": {},
   "outputs": [
    {
     "data": {
      "text/html": [
       "<div>\n",
       "<style scoped>\n",
       "    .dataframe tbody tr th:only-of-type {\n",
       "        vertical-align: middle;\n",
       "    }\n",
       "\n",
       "    .dataframe tbody tr th {\n",
       "        vertical-align: top;\n",
       "    }\n",
       "\n",
       "    .dataframe thead th {\n",
       "        text-align: right;\n",
       "    }\n",
       "</style>\n",
       "<table border=\"1\" class=\"dataframe\">\n",
       "  <thead>\n",
       "    <tr style=\"text-align: right;\">\n",
       "      <th></th>\n",
       "      <th>Name</th>\n",
       "      <th>Constituency 1</th>\n",
       "      <th>Constituency 2</th>\n",
       "      <th>Office Term Start</th>\n",
       "      <th>Office Term End</th>\n",
       "      <th>Party</th>\n",
       "      <th>Vice President</th>\n",
       "      <th>No. of times Elected</th>\n",
       "    </tr>\n",
       "  </thead>\n",
       "  <tbody>\n",
       "    <tr>\n",
       "      <th>2</th>\n",
       "      <td>W. T. Cosgrave</td>\n",
       "      <td>Carlow–Kilkenny</td>\n",
       "      <td>Cork Borough</td>\n",
       "      <td>1922-12-06</td>\n",
       "      <td>1932-03-09</td>\n",
       "      <td>Sinn Féin(Pro-Treaty)</td>\n",
       "      <td>Kevin O'Higgins</td>\n",
       "      <td>3</td>\n",
       "    </tr>\n",
       "    <tr>\n",
       "      <th>3</th>\n",
       "      <td>W. T. Cosgrave</td>\n",
       "      <td>Carlow–Kilkenny</td>\n",
       "      <td>Cork Borough</td>\n",
       "      <td>1922-12-06</td>\n",
       "      <td>1932-03-09</td>\n",
       "      <td>Cumann na nGaedheal</td>\n",
       "      <td>Kevin O'Higgins</td>\n",
       "      <td>4</td>\n",
       "    </tr>\n",
       "    <tr>\n",
       "      <th>4</th>\n",
       "      <td>W. T. Cosgrave</td>\n",
       "      <td>Carlow–Kilkenny</td>\n",
       "      <td>Cork Borough</td>\n",
       "      <td>1922-12-06</td>\n",
       "      <td>1932-03-09</td>\n",
       "      <td>Cumann na nGaedheal</td>\n",
       "      <td>Ernest Blythe</td>\n",
       "      <td>5</td>\n",
       "    </tr>\n",
       "    <tr>\n",
       "      <th>5</th>\n",
       "      <td>W. T. Cosgrave</td>\n",
       "      <td>Carlow–Kilkenny</td>\n",
       "      <td>Cork Borough</td>\n",
       "      <td>1922-12-06</td>\n",
       "      <td>1932-03-09</td>\n",
       "      <td>Cumann na nGaedheal</td>\n",
       "      <td>Ernest Blythe</td>\n",
       "      <td>6</td>\n",
       "    </tr>\n",
       "    <tr>\n",
       "      <th>6</th>\n",
       "      <td>W. T. Cosgrave</td>\n",
       "      <td>Carlow–Kilkenny</td>\n",
       "      <td>Cork Borough</td>\n",
       "      <td>1922-12-06</td>\n",
       "      <td>1932-03-09</td>\n",
       "      <td>Cumann na nGaedheal</td>\n",
       "      <td>Ernest Blythe</td>\n",
       "      <td>6</td>\n",
       "    </tr>\n",
       "  </tbody>\n",
       "</table>\n",
       "</div>"
      ],
      "text/plain": [
       "             Name   Constituency 1 Constituency 2 Office Term Start  \\\n",
       "2  W. T. Cosgrave  Carlow–Kilkenny   Cork Borough        1922-12-06   \n",
       "3  W. T. Cosgrave  Carlow–Kilkenny   Cork Borough        1922-12-06   \n",
       "4  W. T. Cosgrave  Carlow–Kilkenny   Cork Borough        1922-12-06   \n",
       "5  W. T. Cosgrave  Carlow–Kilkenny   Cork Borough        1922-12-06   \n",
       "6  W. T. Cosgrave  Carlow–Kilkenny   Cork Borough        1922-12-06   \n",
       "\n",
       "  Office Term End                  Party   Vice President No. of times Elected  \n",
       "2      1932-03-09  Sinn Féin(Pro-Treaty)  Kevin O'Higgins                   3   \n",
       "3      1932-03-09    Cumann na nGaedheal  Kevin O'Higgins                   4   \n",
       "4      1932-03-09    Cumann na nGaedheal    Ernest Blythe                   5   \n",
       "5      1932-03-09    Cumann na nGaedheal    Ernest Blythe                   6   \n",
       "6      1932-03-09    Cumann na nGaedheal    Ernest Blythe                   6   "
      ]
     },
     "execution_count": 31,
     "metadata": {},
     "output_type": "execute_result"
    }
   ],
   "source": [
    "df.head()"
   ]
  },
  {
   "cell_type": "code",
   "execution_count": 32,
   "metadata": {},
   "outputs": [],
   "source": [
    "df['No. of times Elected'] = pd.to_numeric(df['No. of times Elected'], errors='coerce')"
   ]
  },
  {
   "cell_type": "markdown",
   "metadata": {},
   "source": [
    "### Extracting Birth dates for each Taoiseach"
   ]
  },
  {
   "cell_type": "code",
   "execution_count": 33,
   "metadata": {
    "scrolled": true
   },
   "outputs": [
    {
     "data": {
      "text/html": [
       "<div>\n",
       "<style scoped>\n",
       "    .dataframe tbody tr th:only-of-type {\n",
       "        vertical-align: middle;\n",
       "    }\n",
       "\n",
       "    .dataframe tbody tr th {\n",
       "        vertical-align: top;\n",
       "    }\n",
       "\n",
       "    .dataframe thead th {\n",
       "        text-align: right;\n",
       "    }\n",
       "</style>\n",
       "<table border=\"1\" class=\"dataframe\">\n",
       "  <thead>\n",
       "    <tr style=\"text-align: right;\">\n",
       "      <th></th>\n",
       "      <th>Name</th>\n",
       "      <th>Constituency 1</th>\n",
       "      <th>Constituency 2</th>\n",
       "      <th>Office Term Start</th>\n",
       "      <th>Office Term End</th>\n",
       "      <th>Party</th>\n",
       "      <th>Vice President</th>\n",
       "      <th>No. of times Elected</th>\n",
       "    </tr>\n",
       "  </thead>\n",
       "  <tbody>\n",
       "    <tr>\n",
       "      <th>2</th>\n",
       "      <td>W. T. Cosgrave</td>\n",
       "      <td>Carlow–Kilkenny</td>\n",
       "      <td>Cork Borough</td>\n",
       "      <td>1922-12-06</td>\n",
       "      <td>1932-03-09</td>\n",
       "      <td>Sinn Féin(Pro-Treaty)</td>\n",
       "      <td>Kevin O'Higgins</td>\n",
       "      <td>3</td>\n",
       "    </tr>\n",
       "    <tr>\n",
       "      <th>3</th>\n",
       "      <td>W. T. Cosgrave</td>\n",
       "      <td>Carlow–Kilkenny</td>\n",
       "      <td>Cork Borough</td>\n",
       "      <td>1922-12-06</td>\n",
       "      <td>1932-03-09</td>\n",
       "      <td>Cumann na nGaedheal</td>\n",
       "      <td>Kevin O'Higgins</td>\n",
       "      <td>4</td>\n",
       "    </tr>\n",
       "    <tr>\n",
       "      <th>4</th>\n",
       "      <td>W. T. Cosgrave</td>\n",
       "      <td>Carlow–Kilkenny</td>\n",
       "      <td>Cork Borough</td>\n",
       "      <td>1922-12-06</td>\n",
       "      <td>1932-03-09</td>\n",
       "      <td>Cumann na nGaedheal</td>\n",
       "      <td>Ernest Blythe</td>\n",
       "      <td>5</td>\n",
       "    </tr>\n",
       "    <tr>\n",
       "      <th>5</th>\n",
       "      <td>W. T. Cosgrave</td>\n",
       "      <td>Carlow–Kilkenny</td>\n",
       "      <td>Cork Borough</td>\n",
       "      <td>1922-12-06</td>\n",
       "      <td>1932-03-09</td>\n",
       "      <td>Cumann na nGaedheal</td>\n",
       "      <td>Ernest Blythe</td>\n",
       "      <td>6</td>\n",
       "    </tr>\n",
       "    <tr>\n",
       "      <th>6</th>\n",
       "      <td>W. T. Cosgrave</td>\n",
       "      <td>Carlow–Kilkenny</td>\n",
       "      <td>Cork Borough</td>\n",
       "      <td>1922-12-06</td>\n",
       "      <td>1932-03-09</td>\n",
       "      <td>Cumann na nGaedheal</td>\n",
       "      <td>Ernest Blythe</td>\n",
       "      <td>6</td>\n",
       "    </tr>\n",
       "  </tbody>\n",
       "</table>\n",
       "</div>"
      ],
      "text/plain": [
       "             Name   Constituency 1 Constituency 2 Office Term Start  \\\n",
       "2  W. T. Cosgrave  Carlow–Kilkenny   Cork Borough        1922-12-06   \n",
       "3  W. T. Cosgrave  Carlow–Kilkenny   Cork Borough        1922-12-06   \n",
       "4  W. T. Cosgrave  Carlow–Kilkenny   Cork Borough        1922-12-06   \n",
       "5  W. T. Cosgrave  Carlow–Kilkenny   Cork Borough        1922-12-06   \n",
       "6  W. T. Cosgrave  Carlow–Kilkenny   Cork Borough        1922-12-06   \n",
       "\n",
       "  Office Term End                  Party   Vice President  \\\n",
       "2      1932-03-09  Sinn Féin(Pro-Treaty)  Kevin O'Higgins   \n",
       "3      1932-03-09    Cumann na nGaedheal  Kevin O'Higgins   \n",
       "4      1932-03-09    Cumann na nGaedheal    Ernest Blythe   \n",
       "5      1932-03-09    Cumann na nGaedheal    Ernest Blythe   \n",
       "6      1932-03-09    Cumann na nGaedheal    Ernest Blythe   \n",
       "\n",
       "   No. of times Elected  \n",
       "2                     3  \n",
       "3                     4  \n",
       "4                     5  \n",
       "5                     6  \n",
       "6                     6  "
      ]
     },
     "execution_count": 33,
     "metadata": {},
     "output_type": "execute_result"
    }
   ],
   "source": [
    "df.head()"
   ]
  },
  {
   "cell_type": "code",
   "execution_count": 34,
   "metadata": {},
   "outputs": [],
   "source": [
    "names = df[\"Name\"].str.replace(\" \",\"_\").str.replace(\"É\",\"E\").str.replace(\"á\",\"a\").values"
   ]
  },
  {
   "cell_type": "code",
   "execution_count": 35,
   "metadata": {},
   "outputs": [
    {
     "data": {
      "text/plain": [
       "array(['W._T._Cosgrave', 'W._T._Cosgrave', 'W._T._Cosgrave',\n",
       "       'W._T._Cosgrave', 'W._T._Cosgrave', 'Eamon_de_Valera',\n",
       "       'Eamon_de_Valera', 'Eamon_de_Valera', 'Eamon_de_Valera',\n",
       "       'Eamon_de_Valera', 'Eamon_de_Valera', 'Eamon_de_Valera',\n",
       "       'John_A._Costello', 'Eamon_de_Valera', 'John_A._Costello',\n",
       "       'Eamon_de_Valera', 'Sean_Lemass', 'Sean_Lemass', 'Sean_Lemass',\n",
       "       'Jack_Lynch', 'Jack_Lynch', 'Liam_Cosgrave', 'Jack_Lynch',\n",
       "       'Charles_Haughey', 'Garret_FitzGerald', 'Charles_Haughey',\n",
       "       'Garret_FitzGerald', 'Garret_FitzGerald', 'Charles_Haughey',\n",
       "       'Charles_Haughey', 'Charles_Haughey', 'Albert_Reynolds',\n",
       "       'Albert_Reynolds', 'Albert_Reynolds', 'John_Bruton',\n",
       "       'Bertie_Ahern', 'Bertie_Ahern', 'Bertie_Ahern', 'Bertie_Ahern',\n",
       "       'Brian_Cowen', 'Enda_Kenny', 'Enda_Kenny', 'Enda_Kenny',\n",
       "       'Leo_Varadkar', 'Leo_Varadkar', 'Micheal_Martin'], dtype=object)"
      ]
     },
     "execution_count": 35,
     "metadata": {},
     "output_type": "execute_result"
    }
   ],
   "source": [
    "names"
   ]
  },
  {
   "cell_type": "code",
   "execution_count": 36,
   "metadata": {},
   "outputs": [],
   "source": [
    "date_list = []"
   ]
  },
  {
   "cell_type": "markdown",
   "metadata": {},
   "source": [
    "#### Here we are going to extract the birth-date of every president using beautiful-soup technique in python and store it in the above created empty list. The purpose of doing so is to get the age of the members of Taoiseach  at which age each of them assumed the office."
   ]
  },
  {
   "cell_type": "code",
   "execution_count": 37,
   "metadata": {
    "scrolled": true
   },
   "outputs": [],
   "source": [
    "for i in range(0,45):\n",
    "    urls = 'https://en.wikipedia.org/wiki/'+names[i]\n",
    "    page = u.urlopen(urls)\n",
    "    soup = BeautifulSoup.BeautifulSoup(page, 'lxml')\n",
    "    var = soup.find('table',attrs={'class':'infobox vcard'})\n",
    "    bd_day = var.find('span',attrs = {'class':'bday'})\n",
    "    date_list.append(bd_day.text)"
   ]
  },
  {
   "cell_type": "markdown",
   "metadata": {},
   "source": [
    "#### The birth dates are extracted for each Taoiseach member and stored in the date_list, let's convert the list to a dataframe so we can concat it to our main dataframe."
   ]
  },
  {
   "cell_type": "code",
   "execution_count": 38,
   "metadata": {},
   "outputs": [],
   "source": [
    "dates = pd.DataFrame(date_list) "
   ]
  },
  {
   "cell_type": "code",
   "execution_count": 39,
   "metadata": {},
   "outputs": [],
   "source": [
    "dates.columns = [\"Birth_Dates\"]"
   ]
  },
  {
   "cell_type": "code",
   "execution_count": 40,
   "metadata": {},
   "outputs": [],
   "source": [
    "df = df.reset_index(drop=True)"
   ]
  },
  {
   "cell_type": "code",
   "execution_count": 41,
   "metadata": {},
   "outputs": [],
   "source": [
    "df = pd.concat([df,dates], axis = \"columns\")"
   ]
  },
  {
   "cell_type": "code",
   "execution_count": 42,
   "metadata": {},
   "outputs": [],
   "source": [
    "df = df.fillna('  ')"
   ]
  },
  {
   "cell_type": "markdown",
   "metadata": {},
   "source": [
    "### Final Data with all needed columns and information"
   ]
  },
  {
   "cell_type": "code",
   "execution_count": 43,
   "metadata": {
    "scrolled": true
   },
   "outputs": [
    {
     "data": {
      "text/html": [
       "<div>\n",
       "<style scoped>\n",
       "    .dataframe tbody tr th:only-of-type {\n",
       "        vertical-align: middle;\n",
       "    }\n",
       "\n",
       "    .dataframe tbody tr th {\n",
       "        vertical-align: top;\n",
       "    }\n",
       "\n",
       "    .dataframe thead th {\n",
       "        text-align: right;\n",
       "    }\n",
       "</style>\n",
       "<table border=\"1\" class=\"dataframe\">\n",
       "  <thead>\n",
       "    <tr style=\"text-align: right;\">\n",
       "      <th></th>\n",
       "      <th>Name</th>\n",
       "      <th>Constituency 1</th>\n",
       "      <th>Constituency 2</th>\n",
       "      <th>Office Term Start</th>\n",
       "      <th>Office Term End</th>\n",
       "      <th>Party</th>\n",
       "      <th>Vice President</th>\n",
       "      <th>No. of times Elected</th>\n",
       "      <th>Birth_Dates</th>\n",
       "    </tr>\n",
       "  </thead>\n",
       "  <tbody>\n",
       "    <tr>\n",
       "      <th>0</th>\n",
       "      <td>W. T. Cosgrave</td>\n",
       "      <td>Carlow–Kilkenny</td>\n",
       "      <td>Cork Borough</td>\n",
       "      <td>1922-12-06</td>\n",
       "      <td>1932-03-09 00:00:00.000000</td>\n",
       "      <td>Sinn Féin(Pro-Treaty)</td>\n",
       "      <td>Kevin O'Higgins</td>\n",
       "      <td>3</td>\n",
       "      <td>1880-06-06</td>\n",
       "    </tr>\n",
       "    <tr>\n",
       "      <th>1</th>\n",
       "      <td>W. T. Cosgrave</td>\n",
       "      <td>Carlow–Kilkenny</td>\n",
       "      <td>Cork Borough</td>\n",
       "      <td>1922-12-06</td>\n",
       "      <td>1932-03-09 00:00:00.000000</td>\n",
       "      <td>Cumann na nGaedheal</td>\n",
       "      <td>Kevin O'Higgins</td>\n",
       "      <td>4</td>\n",
       "      <td>1880-06-06</td>\n",
       "    </tr>\n",
       "    <tr>\n",
       "      <th>2</th>\n",
       "      <td>W. T. Cosgrave</td>\n",
       "      <td>Carlow–Kilkenny</td>\n",
       "      <td>Cork Borough</td>\n",
       "      <td>1922-12-06</td>\n",
       "      <td>1932-03-09 00:00:00.000000</td>\n",
       "      <td>Cumann na nGaedheal</td>\n",
       "      <td>Ernest Blythe</td>\n",
       "      <td>5</td>\n",
       "      <td>1880-06-06</td>\n",
       "    </tr>\n",
       "    <tr>\n",
       "      <th>3</th>\n",
       "      <td>W. T. Cosgrave</td>\n",
       "      <td>Carlow–Kilkenny</td>\n",
       "      <td>Cork Borough</td>\n",
       "      <td>1922-12-06</td>\n",
       "      <td>1932-03-09 00:00:00.000000</td>\n",
       "      <td>Cumann na nGaedheal</td>\n",
       "      <td>Ernest Blythe</td>\n",
       "      <td>6</td>\n",
       "      <td>1880-06-06</td>\n",
       "    </tr>\n",
       "    <tr>\n",
       "      <th>4</th>\n",
       "      <td>W. T. Cosgrave</td>\n",
       "      <td>Carlow–Kilkenny</td>\n",
       "      <td>Cork Borough</td>\n",
       "      <td>1922-12-06</td>\n",
       "      <td>1932-03-09 00:00:00.000000</td>\n",
       "      <td>Cumann na nGaedheal</td>\n",
       "      <td>Ernest Blythe</td>\n",
       "      <td>6</td>\n",
       "      <td>1880-06-06</td>\n",
       "    </tr>\n",
       "    <tr>\n",
       "      <th>5</th>\n",
       "      <td>Éamon de Valera</td>\n",
       "      <td>Clare</td>\n",
       "      <td></td>\n",
       "      <td>1932-03-09</td>\n",
       "      <td>1937-12-29 00:00:00.000000</td>\n",
       "      <td>Fianna Fáil</td>\n",
       "      <td>Seán T. O'Kelly</td>\n",
       "      <td>7</td>\n",
       "      <td>1882-10-14</td>\n",
       "    </tr>\n",
       "    <tr>\n",
       "      <th>6</th>\n",
       "      <td>Éamon de Valera</td>\n",
       "      <td>Clare</td>\n",
       "      <td></td>\n",
       "      <td>1932-03-09</td>\n",
       "      <td>1937-12-29 00:00:00.000000</td>\n",
       "      <td>Fianna Fáil</td>\n",
       "      <td>Seán T. O'Kelly</td>\n",
       "      <td>8</td>\n",
       "      <td>1882-10-14</td>\n",
       "    </tr>\n",
       "    <tr>\n",
       "      <th>7</th>\n",
       "      <td>Éamon de Valera</td>\n",
       "      <td>Clare</td>\n",
       "      <td></td>\n",
       "      <td>1932-03-09</td>\n",
       "      <td>1937-12-29 00:00:00.000000</td>\n",
       "      <td>Fianna Fáil</td>\n",
       "      <td>Seán T. O'Kelly</td>\n",
       "      <td>9</td>\n",
       "      <td>1882-10-14</td>\n",
       "    </tr>\n",
       "    <tr>\n",
       "      <th>8</th>\n",
       "      <td>Éamon de Valera</td>\n",
       "      <td>Clare</td>\n",
       "      <td></td>\n",
       "      <td>1937-12-29</td>\n",
       "      <td>1948-02-18 00:00:00.000000</td>\n",
       "      <td>Fianna Fáil</td>\n",
       "      <td>Seán T. O'Kelly</td>\n",
       "      <td>9</td>\n",
       "      <td>1882-10-14</td>\n",
       "    </tr>\n",
       "    <tr>\n",
       "      <th>9</th>\n",
       "      <td>Éamon de Valera</td>\n",
       "      <td>Clare</td>\n",
       "      <td></td>\n",
       "      <td>1937-12-29</td>\n",
       "      <td>1948-02-18 00:00:00.000000</td>\n",
       "      <td>Fianna Fáil</td>\n",
       "      <td>Seán T. O'Kelly</td>\n",
       "      <td>10</td>\n",
       "      <td>1882-10-14</td>\n",
       "    </tr>\n",
       "    <tr>\n",
       "      <th>10</th>\n",
       "      <td>Éamon de Valera</td>\n",
       "      <td>Clare</td>\n",
       "      <td></td>\n",
       "      <td>1937-12-29</td>\n",
       "      <td>1948-02-18 00:00:00.000000</td>\n",
       "      <td>Fianna Fáil</td>\n",
       "      <td>Seán T. O'Kelly</td>\n",
       "      <td>11</td>\n",
       "      <td>1882-10-14</td>\n",
       "    </tr>\n",
       "    <tr>\n",
       "      <th>11</th>\n",
       "      <td>Éamon de Valera</td>\n",
       "      <td>Clare</td>\n",
       "      <td></td>\n",
       "      <td>1937-12-29</td>\n",
       "      <td>1948-02-18 00:00:00.000000</td>\n",
       "      <td>Fianna Fáil</td>\n",
       "      <td>Seán Lemass</td>\n",
       "      <td>12</td>\n",
       "      <td>1882-10-14</td>\n",
       "    </tr>\n",
       "    <tr>\n",
       "      <th>12</th>\n",
       "      <td>John A. Costello</td>\n",
       "      <td>Dublin South-East</td>\n",
       "      <td></td>\n",
       "      <td>1948-02-18</td>\n",
       "      <td>1951-06-13 00:00:00.000000</td>\n",
       "      <td>Fine Gael</td>\n",
       "      <td>William Norton</td>\n",
       "      <td>13</td>\n",
       "      <td>1891-06-20</td>\n",
       "    </tr>\n",
       "    <tr>\n",
       "      <th>13</th>\n",
       "      <td>Éamon de Valera</td>\n",
       "      <td>Clare</td>\n",
       "      <td></td>\n",
       "      <td>1951-06-13</td>\n",
       "      <td>1954-06-02 00:00:00.000000</td>\n",
       "      <td>Fianna Fáil</td>\n",
       "      <td>Seán Lemass</td>\n",
       "      <td>14</td>\n",
       "      <td>1882-10-14</td>\n",
       "    </tr>\n",
       "    <tr>\n",
       "      <th>14</th>\n",
       "      <td>John A. Costello</td>\n",
       "      <td>Dublin South-East</td>\n",
       "      <td></td>\n",
       "      <td>1954-06-02</td>\n",
       "      <td>1957-03-20 00:00:00.000000</td>\n",
       "      <td>Fine Gael</td>\n",
       "      <td>William Norton</td>\n",
       "      <td>15</td>\n",
       "      <td>1891-06-20</td>\n",
       "    </tr>\n",
       "    <tr>\n",
       "      <th>15</th>\n",
       "      <td>Éamon de Valera</td>\n",
       "      <td>Clare</td>\n",
       "      <td></td>\n",
       "      <td>1957-03-20</td>\n",
       "      <td>1959-06-23 00:00:00.000000</td>\n",
       "      <td>Fianna Fáil</td>\n",
       "      <td>Seán Lemass</td>\n",
       "      <td>16</td>\n",
       "      <td>1882-10-14</td>\n",
       "    </tr>\n",
       "    <tr>\n",
       "      <th>16</th>\n",
       "      <td>Seán Lemass</td>\n",
       "      <td>Dublin South-Central</td>\n",
       "      <td></td>\n",
       "      <td>1959-06-23</td>\n",
       "      <td>1966-11-10 00:00:00.000000</td>\n",
       "      <td>Fianna Fáil</td>\n",
       "      <td>Seán MacEntee</td>\n",
       "      <td>16</td>\n",
       "      <td>1899-07-15</td>\n",
       "    </tr>\n",
       "    <tr>\n",
       "      <th>17</th>\n",
       "      <td>Seán Lemass</td>\n",
       "      <td>Dublin South-Central</td>\n",
       "      <td></td>\n",
       "      <td>1959-06-23</td>\n",
       "      <td>1966-11-10 00:00:00.000000</td>\n",
       "      <td>Fianna Fáil</td>\n",
       "      <td>Seán MacEntee</td>\n",
       "      <td>17</td>\n",
       "      <td>1899-07-15</td>\n",
       "    </tr>\n",
       "    <tr>\n",
       "      <th>18</th>\n",
       "      <td>Seán Lemass</td>\n",
       "      <td>Dublin South-Central</td>\n",
       "      <td></td>\n",
       "      <td>1959-06-23</td>\n",
       "      <td>1966-11-10 00:00:00.000000</td>\n",
       "      <td>Fianna Fáil</td>\n",
       "      <td>Frank Aiken</td>\n",
       "      <td>18</td>\n",
       "      <td>1899-07-15</td>\n",
       "    </tr>\n",
       "    <tr>\n",
       "      <th>19</th>\n",
       "      <td>Jack Lynch</td>\n",
       "      <td>Cork Borough</td>\n",
       "      <td>Cork City North-West</td>\n",
       "      <td>1966-11-10</td>\n",
       "      <td>1973-03-14 00:00:00.000000</td>\n",
       "      <td>Fianna Fáil</td>\n",
       "      <td>Frank Aiken</td>\n",
       "      <td>18</td>\n",
       "      <td>1917-08-15</td>\n",
       "    </tr>\n",
       "    <tr>\n",
       "      <th>20</th>\n",
       "      <td>Jack Lynch</td>\n",
       "      <td>Cork Borough</td>\n",
       "      <td>Cork City North-West</td>\n",
       "      <td>1966-11-10</td>\n",
       "      <td>1973-03-14 00:00:00.000000</td>\n",
       "      <td>Fianna Fáil</td>\n",
       "      <td>Erskine H. Childers</td>\n",
       "      <td>19</td>\n",
       "      <td>1917-08-15</td>\n",
       "    </tr>\n",
       "    <tr>\n",
       "      <th>21</th>\n",
       "      <td>Liam Cosgrave</td>\n",
       "      <td>Dún Laoghaire and Rathdown</td>\n",
       "      <td></td>\n",
       "      <td>1973-03-14</td>\n",
       "      <td>1977-07-05 00:00:00.000000</td>\n",
       "      <td>Fine Gael</td>\n",
       "      <td>Brendan Corish</td>\n",
       "      <td>20</td>\n",
       "      <td>1920-04-13</td>\n",
       "    </tr>\n",
       "    <tr>\n",
       "      <th>22</th>\n",
       "      <td>Jack Lynch</td>\n",
       "      <td>Cork City</td>\n",
       "      <td></td>\n",
       "      <td>1977-07-05</td>\n",
       "      <td>1979-12-11 00:00:00.000000</td>\n",
       "      <td>Fianna Fáil</td>\n",
       "      <td>George Colley</td>\n",
       "      <td>21</td>\n",
       "      <td>1917-08-15</td>\n",
       "    </tr>\n",
       "    <tr>\n",
       "      <th>23</th>\n",
       "      <td>Charles Haughey</td>\n",
       "      <td>Dublin Artane</td>\n",
       "      <td></td>\n",
       "      <td>1979-12-11</td>\n",
       "      <td>1981-06-30 00:00:00.000000</td>\n",
       "      <td>Fianna Fáil</td>\n",
       "      <td>George Colley</td>\n",
       "      <td>21</td>\n",
       "      <td>1925-09-16</td>\n",
       "    </tr>\n",
       "    <tr>\n",
       "      <th>24</th>\n",
       "      <td>Garret FitzGerald</td>\n",
       "      <td>Dublin South-East</td>\n",
       "      <td></td>\n",
       "      <td>1981-06-30</td>\n",
       "      <td>1982-03-09 00:00:00.000000</td>\n",
       "      <td>Fine Gael</td>\n",
       "      <td>Michael O'Leary</td>\n",
       "      <td>22</td>\n",
       "      <td>1926-02-09</td>\n",
       "    </tr>\n",
       "    <tr>\n",
       "      <th>25</th>\n",
       "      <td>Charles Haughey</td>\n",
       "      <td>Dublin North-Central</td>\n",
       "      <td></td>\n",
       "      <td>1982-03-09</td>\n",
       "      <td>1982-12-14 00:00:00.000000</td>\n",
       "      <td>Fianna Fáil</td>\n",
       "      <td>Ray MacSharry</td>\n",
       "      <td>23</td>\n",
       "      <td>1925-09-16</td>\n",
       "    </tr>\n",
       "    <tr>\n",
       "      <th>26</th>\n",
       "      <td>Garret FitzGerald</td>\n",
       "      <td>Dublin South-East</td>\n",
       "      <td></td>\n",
       "      <td>1982-12-14</td>\n",
       "      <td>1987-03-10 00:00:00.000000</td>\n",
       "      <td>Fine Gael</td>\n",
       "      <td>Dick Spring</td>\n",
       "      <td>24</td>\n",
       "      <td>1926-02-09</td>\n",
       "    </tr>\n",
       "    <tr>\n",
       "      <th>27</th>\n",
       "      <td>Garret FitzGerald</td>\n",
       "      <td>Dublin South-East</td>\n",
       "      <td></td>\n",
       "      <td>1982-12-14</td>\n",
       "      <td>1987-03-10 00:00:00.000000</td>\n",
       "      <td>Fine Gael</td>\n",
       "      <td>Peter Barry</td>\n",
       "      <td>24</td>\n",
       "      <td>1926-02-09</td>\n",
       "    </tr>\n",
       "    <tr>\n",
       "      <th>28</th>\n",
       "      <td>Charles Haughey</td>\n",
       "      <td>Dublin North-Central</td>\n",
       "      <td></td>\n",
       "      <td>1987-03-10</td>\n",
       "      <td>1992-02-11 00:00:00.000000</td>\n",
       "      <td>Fianna Fáil</td>\n",
       "      <td>Brian Lenihan</td>\n",
       "      <td>25</td>\n",
       "      <td>1925-09-16</td>\n",
       "    </tr>\n",
       "    <tr>\n",
       "      <th>29</th>\n",
       "      <td>Charles Haughey</td>\n",
       "      <td>Dublin North-Central</td>\n",
       "      <td></td>\n",
       "      <td>1987-03-10</td>\n",
       "      <td>1992-02-11 00:00:00.000000</td>\n",
       "      <td>Fianna Fáil</td>\n",
       "      <td>Brian Lenihan</td>\n",
       "      <td>26</td>\n",
       "      <td>1925-09-16</td>\n",
       "    </tr>\n",
       "    <tr>\n",
       "      <th>30</th>\n",
       "      <td>Charles Haughey</td>\n",
       "      <td>Dublin North-Central</td>\n",
       "      <td></td>\n",
       "      <td>1987-03-10</td>\n",
       "      <td>1992-02-11 00:00:00.000000</td>\n",
       "      <td>Fianna Fáil</td>\n",
       "      <td>John Wilson</td>\n",
       "      <td>26</td>\n",
       "      <td>1925-09-16</td>\n",
       "    </tr>\n",
       "    <tr>\n",
       "      <th>31</th>\n",
       "      <td>Albert Reynolds</td>\n",
       "      <td>Longford–Roscommon</td>\n",
       "      <td></td>\n",
       "      <td>1992-02-11</td>\n",
       "      <td>1994-12-15 00:00:00.000000</td>\n",
       "      <td>Fianna Fáil</td>\n",
       "      <td>John Wilson</td>\n",
       "      <td>26</td>\n",
       "      <td>1932-11-03</td>\n",
       "    </tr>\n",
       "    <tr>\n",
       "      <th>32</th>\n",
       "      <td>Albert Reynolds</td>\n",
       "      <td>Longford–Roscommon</td>\n",
       "      <td></td>\n",
       "      <td>1992-02-11</td>\n",
       "      <td>1994-12-15 00:00:00.000000</td>\n",
       "      <td>Fianna Fáil</td>\n",
       "      <td>Dick Spring</td>\n",
       "      <td>27</td>\n",
       "      <td>1932-11-03</td>\n",
       "    </tr>\n",
       "    <tr>\n",
       "      <th>33</th>\n",
       "      <td>Albert Reynolds</td>\n",
       "      <td>Longford–Roscommon</td>\n",
       "      <td></td>\n",
       "      <td>1992-02-11</td>\n",
       "      <td>1994-12-15 00:00:00.000000</td>\n",
       "      <td>Fianna Fáil</td>\n",
       "      <td>Bertie Ahern</td>\n",
       "      <td>27</td>\n",
       "      <td>1932-11-03</td>\n",
       "    </tr>\n",
       "    <tr>\n",
       "      <th>34</th>\n",
       "      <td>John Bruton</td>\n",
       "      <td>Meath</td>\n",
       "      <td></td>\n",
       "      <td>1994-12-15</td>\n",
       "      <td>1997-06-26 00:00:00.000000</td>\n",
       "      <td>Fine Gael</td>\n",
       "      <td>Dick Spring</td>\n",
       "      <td>27</td>\n",
       "      <td>1947-05-18</td>\n",
       "    </tr>\n",
       "    <tr>\n",
       "      <th>35</th>\n",
       "      <td>Bertie Ahern</td>\n",
       "      <td>Dublin Central</td>\n",
       "      <td></td>\n",
       "      <td>1997-06-26</td>\n",
       "      <td>2008-05-07 00:00:00.000000</td>\n",
       "      <td>Fianna Fáil</td>\n",
       "      <td>Mary Harney</td>\n",
       "      <td>28</td>\n",
       "      <td>1951-09-12</td>\n",
       "    </tr>\n",
       "    <tr>\n",
       "      <th>36</th>\n",
       "      <td>Bertie Ahern</td>\n",
       "      <td>Dublin Central</td>\n",
       "      <td></td>\n",
       "      <td>1997-06-26</td>\n",
       "      <td>2008-05-07 00:00:00.000000</td>\n",
       "      <td>Fianna Fáil</td>\n",
       "      <td>Mary Harney</td>\n",
       "      <td>29</td>\n",
       "      <td>1951-09-12</td>\n",
       "    </tr>\n",
       "    <tr>\n",
       "      <th>37</th>\n",
       "      <td>Bertie Ahern</td>\n",
       "      <td>Dublin Central</td>\n",
       "      <td></td>\n",
       "      <td>1997-06-26</td>\n",
       "      <td>2008-05-07 00:00:00.000000</td>\n",
       "      <td>Fianna Fáil</td>\n",
       "      <td>Michael McDowell</td>\n",
       "      <td>29</td>\n",
       "      <td>1951-09-12</td>\n",
       "    </tr>\n",
       "    <tr>\n",
       "      <th>38</th>\n",
       "      <td>Bertie Ahern</td>\n",
       "      <td>Dublin Central</td>\n",
       "      <td></td>\n",
       "      <td>1997-06-26</td>\n",
       "      <td>2008-05-07 00:00:00.000000</td>\n",
       "      <td>Fianna Fáil</td>\n",
       "      <td>Brian Cowen</td>\n",
       "      <td>30</td>\n",
       "      <td>1951-09-12</td>\n",
       "    </tr>\n",
       "    <tr>\n",
       "      <th>39</th>\n",
       "      <td>Brian Cowen</td>\n",
       "      <td>Laois–Offaly</td>\n",
       "      <td></td>\n",
       "      <td>2008-05-07</td>\n",
       "      <td>2011-03-09 00:00:00.000000</td>\n",
       "      <td>Fianna Fáil</td>\n",
       "      <td>Mary Coughlan</td>\n",
       "      <td>30</td>\n",
       "      <td>1960-01-10</td>\n",
       "    </tr>\n",
       "    <tr>\n",
       "      <th>40</th>\n",
       "      <td>Enda Kenny</td>\n",
       "      <td>Mayo</td>\n",
       "      <td></td>\n",
       "      <td>2011-03-09</td>\n",
       "      <td>2017-06-14 00:00:00.000000</td>\n",
       "      <td>Fine Gael</td>\n",
       "      <td>Eamon Gilmore</td>\n",
       "      <td>31</td>\n",
       "      <td>1951-04-24</td>\n",
       "    </tr>\n",
       "    <tr>\n",
       "      <th>41</th>\n",
       "      <td>Enda Kenny</td>\n",
       "      <td>Mayo</td>\n",
       "      <td></td>\n",
       "      <td>2011-03-09</td>\n",
       "      <td>2017-06-14 00:00:00.000000</td>\n",
       "      <td>Fine Gael</td>\n",
       "      <td>Joan Burton</td>\n",
       "      <td>31</td>\n",
       "      <td>1951-04-24</td>\n",
       "    </tr>\n",
       "    <tr>\n",
       "      <th>42</th>\n",
       "      <td>Enda Kenny</td>\n",
       "      <td>Mayo</td>\n",
       "      <td></td>\n",
       "      <td>2011-03-09</td>\n",
       "      <td>2017-06-14 00:00:00.000000</td>\n",
       "      <td>Fine Gael</td>\n",
       "      <td>Frances Fitzgerald</td>\n",
       "      <td>32</td>\n",
       "      <td>1951-04-24</td>\n",
       "    </tr>\n",
       "    <tr>\n",
       "      <th>43</th>\n",
       "      <td>Leo Varadkar</td>\n",
       "      <td>Dublin West</td>\n",
       "      <td></td>\n",
       "      <td>2017-06-14</td>\n",
       "      <td>2020-06-27 00:00:00.000000</td>\n",
       "      <td>Fine Gael</td>\n",
       "      <td>Frances Fitzgerald</td>\n",
       "      <td>32</td>\n",
       "      <td>1979-01-18</td>\n",
       "    </tr>\n",
       "    <tr>\n",
       "      <th>44</th>\n",
       "      <td>Leo Varadkar</td>\n",
       "      <td>Dublin West</td>\n",
       "      <td></td>\n",
       "      <td>2017-06-14</td>\n",
       "      <td>2020-06-27 00:00:00.000000</td>\n",
       "      <td>Fine Gael</td>\n",
       "      <td>Simon Coveney</td>\n",
       "      <td>32</td>\n",
       "      <td>1979-01-18</td>\n",
       "    </tr>\n",
       "    <tr>\n",
       "      <th>45</th>\n",
       "      <td>Micheál Martin</td>\n",
       "      <td>Cork South-Central</td>\n",
       "      <td></td>\n",
       "      <td>2020-06-27</td>\n",
       "      <td>2021-01-13 15:57:10.335281</td>\n",
       "      <td>Fianna Fáil</td>\n",
       "      <td>Leo Varadkar</td>\n",
       "      <td>33</td>\n",
       "      <td>NaT</td>\n",
       "    </tr>\n",
       "  </tbody>\n",
       "</table>\n",
       "</div>"
      ],
      "text/plain": [
       "                 Name              Constituency 1        Constituency 2  \\\n",
       "0      W. T. Cosgrave             Carlow–Kilkenny          Cork Borough   \n",
       "1      W. T. Cosgrave             Carlow–Kilkenny          Cork Borough   \n",
       "2      W. T. Cosgrave             Carlow–Kilkenny          Cork Borough   \n",
       "3      W. T. Cosgrave             Carlow–Kilkenny          Cork Borough   \n",
       "4      W. T. Cosgrave             Carlow–Kilkenny          Cork Borough   \n",
       "5     Éamon de Valera                       Clare                         \n",
       "6     Éamon de Valera                       Clare                         \n",
       "7     Éamon de Valera                       Clare                         \n",
       "8     Éamon de Valera                       Clare                         \n",
       "9     Éamon de Valera                       Clare                         \n",
       "10    Éamon de Valera                       Clare                         \n",
       "11    Éamon de Valera                       Clare                         \n",
       "12   John A. Costello           Dublin South-East                         \n",
       "13    Éamon de Valera                       Clare                         \n",
       "14   John A. Costello           Dublin South-East                         \n",
       "15    Éamon de Valera                       Clare                         \n",
       "16        Seán Lemass        Dublin South-Central                         \n",
       "17        Seán Lemass        Dublin South-Central                         \n",
       "18        Seán Lemass        Dublin South-Central                         \n",
       "19         Jack Lynch                Cork Borough  Cork City North-West   \n",
       "20         Jack Lynch                Cork Borough  Cork City North-West   \n",
       "21      Liam Cosgrave  Dún Laoghaire and Rathdown                         \n",
       "22         Jack Lynch                   Cork City                         \n",
       "23    Charles Haughey               Dublin Artane                         \n",
       "24  Garret FitzGerald           Dublin South-East                         \n",
       "25    Charles Haughey        Dublin North-Central                         \n",
       "26  Garret FitzGerald           Dublin South-East                         \n",
       "27  Garret FitzGerald           Dublin South-East                         \n",
       "28    Charles Haughey        Dublin North-Central                         \n",
       "29    Charles Haughey        Dublin North-Central                         \n",
       "30    Charles Haughey        Dublin North-Central                         \n",
       "31    Albert Reynolds          Longford–Roscommon                         \n",
       "32    Albert Reynolds          Longford–Roscommon                         \n",
       "33    Albert Reynolds          Longford–Roscommon                         \n",
       "34        John Bruton                       Meath                         \n",
       "35       Bertie Ahern              Dublin Central                         \n",
       "36       Bertie Ahern              Dublin Central                         \n",
       "37       Bertie Ahern              Dublin Central                         \n",
       "38       Bertie Ahern              Dublin Central                         \n",
       "39        Brian Cowen                Laois–Offaly                         \n",
       "40         Enda Kenny                        Mayo                         \n",
       "41         Enda Kenny                        Mayo                         \n",
       "42         Enda Kenny                        Mayo                         \n",
       "43       Leo Varadkar                 Dublin West                         \n",
       "44       Leo Varadkar                 Dublin West                         \n",
       "45     Micheál Martin          Cork South-Central                         \n",
       "\n",
       "   Office Term Start            Office Term End                  Party  \\\n",
       "0         1922-12-06 1932-03-09 00:00:00.000000  Sinn Féin(Pro-Treaty)   \n",
       "1         1922-12-06 1932-03-09 00:00:00.000000    Cumann na nGaedheal   \n",
       "2         1922-12-06 1932-03-09 00:00:00.000000    Cumann na nGaedheal   \n",
       "3         1922-12-06 1932-03-09 00:00:00.000000    Cumann na nGaedheal   \n",
       "4         1922-12-06 1932-03-09 00:00:00.000000    Cumann na nGaedheal   \n",
       "5         1932-03-09 1937-12-29 00:00:00.000000            Fianna Fáil   \n",
       "6         1932-03-09 1937-12-29 00:00:00.000000            Fianna Fáil   \n",
       "7         1932-03-09 1937-12-29 00:00:00.000000            Fianna Fáil   \n",
       "8         1937-12-29 1948-02-18 00:00:00.000000            Fianna Fáil   \n",
       "9         1937-12-29 1948-02-18 00:00:00.000000            Fianna Fáil   \n",
       "10        1937-12-29 1948-02-18 00:00:00.000000            Fianna Fáil   \n",
       "11        1937-12-29 1948-02-18 00:00:00.000000            Fianna Fáil   \n",
       "12        1948-02-18 1951-06-13 00:00:00.000000              Fine Gael   \n",
       "13        1951-06-13 1954-06-02 00:00:00.000000            Fianna Fáil   \n",
       "14        1954-06-02 1957-03-20 00:00:00.000000              Fine Gael   \n",
       "15        1957-03-20 1959-06-23 00:00:00.000000            Fianna Fáil   \n",
       "16        1959-06-23 1966-11-10 00:00:00.000000            Fianna Fáil   \n",
       "17        1959-06-23 1966-11-10 00:00:00.000000            Fianna Fáil   \n",
       "18        1959-06-23 1966-11-10 00:00:00.000000            Fianna Fáil   \n",
       "19        1966-11-10 1973-03-14 00:00:00.000000            Fianna Fáil   \n",
       "20        1966-11-10 1973-03-14 00:00:00.000000            Fianna Fáil   \n",
       "21        1973-03-14 1977-07-05 00:00:00.000000              Fine Gael   \n",
       "22        1977-07-05 1979-12-11 00:00:00.000000            Fianna Fáil   \n",
       "23        1979-12-11 1981-06-30 00:00:00.000000            Fianna Fáil   \n",
       "24        1981-06-30 1982-03-09 00:00:00.000000              Fine Gael   \n",
       "25        1982-03-09 1982-12-14 00:00:00.000000            Fianna Fáil   \n",
       "26        1982-12-14 1987-03-10 00:00:00.000000              Fine Gael   \n",
       "27        1982-12-14 1987-03-10 00:00:00.000000              Fine Gael   \n",
       "28        1987-03-10 1992-02-11 00:00:00.000000            Fianna Fáil   \n",
       "29        1987-03-10 1992-02-11 00:00:00.000000            Fianna Fáil   \n",
       "30        1987-03-10 1992-02-11 00:00:00.000000            Fianna Fáil   \n",
       "31        1992-02-11 1994-12-15 00:00:00.000000            Fianna Fáil   \n",
       "32        1992-02-11 1994-12-15 00:00:00.000000            Fianna Fáil   \n",
       "33        1992-02-11 1994-12-15 00:00:00.000000            Fianna Fáil   \n",
       "34        1994-12-15 1997-06-26 00:00:00.000000              Fine Gael   \n",
       "35        1997-06-26 2008-05-07 00:00:00.000000            Fianna Fáil   \n",
       "36        1997-06-26 2008-05-07 00:00:00.000000            Fianna Fáil   \n",
       "37        1997-06-26 2008-05-07 00:00:00.000000            Fianna Fáil   \n",
       "38        1997-06-26 2008-05-07 00:00:00.000000            Fianna Fáil   \n",
       "39        2008-05-07 2011-03-09 00:00:00.000000            Fianna Fáil   \n",
       "40        2011-03-09 2017-06-14 00:00:00.000000              Fine Gael   \n",
       "41        2011-03-09 2017-06-14 00:00:00.000000              Fine Gael   \n",
       "42        2011-03-09 2017-06-14 00:00:00.000000              Fine Gael   \n",
       "43        2017-06-14 2020-06-27 00:00:00.000000              Fine Gael   \n",
       "44        2017-06-14 2020-06-27 00:00:00.000000              Fine Gael   \n",
       "45        2020-06-27 2021-01-13 15:57:10.335281            Fianna Fáil   \n",
       "\n",
       "         Vice President  No. of times Elected Birth_Dates  \n",
       "0       Kevin O'Higgins                     3  1880-06-06  \n",
       "1       Kevin O'Higgins                     4  1880-06-06  \n",
       "2         Ernest Blythe                     5  1880-06-06  \n",
       "3         Ernest Blythe                     6  1880-06-06  \n",
       "4         Ernest Blythe                     6  1880-06-06  \n",
       "5       Seán T. O'Kelly                     7  1882-10-14  \n",
       "6       Seán T. O'Kelly                     8  1882-10-14  \n",
       "7       Seán T. O'Kelly                     9  1882-10-14  \n",
       "8       Seán T. O'Kelly                     9  1882-10-14  \n",
       "9       Seán T. O'Kelly                    10  1882-10-14  \n",
       "10      Seán T. O'Kelly                    11  1882-10-14  \n",
       "11          Seán Lemass                    12  1882-10-14  \n",
       "12       William Norton                    13  1891-06-20  \n",
       "13          Seán Lemass                    14  1882-10-14  \n",
       "14       William Norton                    15  1891-06-20  \n",
       "15          Seán Lemass                    16  1882-10-14  \n",
       "16        Seán MacEntee                    16  1899-07-15  \n",
       "17        Seán MacEntee                    17  1899-07-15  \n",
       "18          Frank Aiken                    18  1899-07-15  \n",
       "19          Frank Aiken                    18  1917-08-15  \n",
       "20  Erskine H. Childers                    19  1917-08-15  \n",
       "21       Brendan Corish                    20  1920-04-13  \n",
       "22        George Colley                    21  1917-08-15  \n",
       "23        George Colley                    21  1925-09-16  \n",
       "24      Michael O'Leary                    22  1926-02-09  \n",
       "25        Ray MacSharry                    23  1925-09-16  \n",
       "26          Dick Spring                    24  1926-02-09  \n",
       "27          Peter Barry                    24  1926-02-09  \n",
       "28        Brian Lenihan                    25  1925-09-16  \n",
       "29        Brian Lenihan                    26  1925-09-16  \n",
       "30          John Wilson                    26  1925-09-16  \n",
       "31          John Wilson                    26  1932-11-03  \n",
       "32          Dick Spring                    27  1932-11-03  \n",
       "33         Bertie Ahern                    27  1932-11-03  \n",
       "34          Dick Spring                    27  1947-05-18  \n",
       "35          Mary Harney                    28  1951-09-12  \n",
       "36          Mary Harney                    29  1951-09-12  \n",
       "37     Michael McDowell                    29  1951-09-12  \n",
       "38          Brian Cowen                    30  1951-09-12  \n",
       "39        Mary Coughlan                    30  1960-01-10  \n",
       "40        Eamon Gilmore                    31  1951-04-24  \n",
       "41          Joan Burton                    31  1951-04-24  \n",
       "42   Frances Fitzgerald                    32  1951-04-24  \n",
       "43   Frances Fitzgerald                    32  1979-01-18  \n",
       "44        Simon Coveney                    32  1979-01-18  \n",
       "45         Leo Varadkar                    33         NaT  "
      ]
     },
     "execution_count": 43,
     "metadata": {},
     "output_type": "execute_result"
    }
   ],
   "source": [
    "df['Birth_Dates'] = pd.to_datetime(df['Birth_Dates'], errors = 'coerce')\n",
    "df"
   ]
  },
  {
   "cell_type": "markdown",
   "metadata": {},
   "source": [
    "### Converting DataFrame to a list so we can insert it in the SQL Table"
   ]
  },
  {
   "cell_type": "code",
   "execution_count": 44,
   "metadata": {},
   "outputs": [],
   "source": [
    "final_data = df.values.tolist()"
   ]
  },
  {
   "cell_type": "markdown",
   "metadata": {},
   "source": [
    "### Inserting the data into out database table"
   ]
  },
  {
   "cell_type": "code",
   "execution_count": 45,
   "metadata": {},
   "outputs": [],
   "source": [
    "config = {\n",
    "    'user': 'Saurabh',\n",
    "    'password': 'Saurabh@06',\n",
    "    'host': 'localhost',\n",
    "    'database': 'Ireland_Presidents',\n",
    "}"
   ]
  },
  {
   "cell_type": "markdown",
   "metadata": {},
   "source": [
    "#### Once we have created our database in SQL with above credentials we can insert the dataframe data into a table using DBcm package in python as below. But for it to insert properly we first need to create a database and a table with the right schema in SQL in following below steps."
   ]
  },
  {
   "cell_type": "code",
   "execution_count": null,
   "metadata": {},
   "outputs": [],
   "source": [
    "with DBcm.UseDatabase(config) as cursor:\n",
    "    SQL = \"insert into Taoiseach (Name, Constituency_1, Constituency_2, Office_Term_Start, Office_Term_End, Party, Vice_President, No_of_Times_Elected, Date_of_Birth) values (%s, %s, %s, %s, %s, %s, %s, %s, %s)\"\n",
    "    cursor.executemany(SQL, final_data)"
   ]
  },
  {
   "cell_type": "markdown",
   "metadata": {},
   "source": [
    "### Table Schema & Steps"
   ]
  },
  {
   "cell_type": "raw",
   "metadata": {},
   "source": [
    "sudo mysql\n",
    "\n",
    "create database Ireland_Presidents;\n",
    "grant all on Ireland_Presidents.* to 'Saurabh' identified by 'Saurabh@06';\n",
    "flush privileges;\n",
    "quit\n",
    "\n",
    "create database Ireland_Presidents;\n",
    "use Ireland_Presidents;\n",
    "\n",
    "create table Taoiseach(\n",
    "Name varchar (70),\n",
    "Constituency_1 varchar (150),\n",
    "Constituency_2 varchar (150),\n",
    "Office_Term_Start date,\n",
    "Office_Term_End date,\n",
    "Party varchar (100),\n",
    "Vice_President varchar (70),\n",
    "No_of_Times_Elected int,\n",
    "Date_of_Birth date );"
   ]
  },
  {
   "cell_type": "markdown",
   "metadata": {},
   "source": [
    "#### Once the dataframe has been inserted in our SQL database and desired table, we are ready to explore the data with some insights after studying the data and answer some questions based on it as well of which some examples are explained below."
   ]
  },
  {
   "cell_type": "markdown",
   "metadata": {},
   "source": [
    "#### Q.3. (a) Provide a list of constituencies in Ireland which have produced a Taoiseach."
   ]
  },
  {
   "cell_type": "raw",
   "metadata": {},
   "source": [
    "SELECT Constituency_1 AS Constituency1 , Constituency_2 AS Constituency2, CONCAT(Constituency_1 ,\" \", Constituency_2) AS List_of_Constituencies FROM Taoiseach;"
   ]
  },
  {
   "cell_type": "markdown",
   "metadata": {},
   "source": [
    "#### Q.3. (b) Which political party has produced the most individual Taoiseachs?"
   ]
  },
  {
   "cell_type": "markdown",
   "metadata": {},
   "source": [
    "SELECT Party,COUNT(*) FROM Taoiseach GROUP BY Party order by count(*) desc limit 1;"
   ]
  },
  {
   "cell_type": "markdown",
   "metadata": {},
   "source": [
    "#### Q.3. (c) Provide the list of names for those politicians who previously held the position of “Vice President” or “Tánaiste” prior to becoming Taoiseach."
   ]
  },
  {
   "cell_type": "raw",
   "metadata": {},
   "source": [
    "SELECT DISTINCT Name FROM Taoiseach WHERE NAME IN (SELECT Vice_President FROM Taoiseach);"
   ]
  },
  {
   "cell_type": "markdown",
   "metadata": {},
   "source": [
    "#### Q.3. (d) Which political party held the office of Taoiseach for the longest amount of overall time, and for how long (in years, months, and days)? (Answer is only in days :-( )"
   ]
  },
  {
   "cell_type": "raw",
   "metadata": {},
   "source": [
    "SELECT DISTINCT Office_Term_Start, Office_Term_End, (Office_Term_Start - Office_Term_End) as diff from Taoiseach;"
   ]
  },
  {
   "cell_type": "markdown",
   "metadata": {},
   "source": [
    "#### Q.3 (e) Which individual politician held the office of Taoiseach for the longest amount of uninterrupted time, and for how long (in years, months, and days)? (Answer is only in days :-( )"
   ]
  },
  {
   "cell_type": "raw",
   "metadata": {},
   "source": [
    "SELECT DISTINCT Office_Term_Start, Office_Term_End, (Office_Term_Start - Office_Term_End) as diff from Taoiseach;"
   ]
  },
  {
   "cell_type": "markdown",
   "metadata": {},
   "source": [
    "#### Q.3. (f) Which individual politician held the office of Taoiseach for the shortest amount of time, and for how long (in years, months, and days)? (Answer is only in days :-( )"
   ]
  },
  {
   "cell_type": "raw",
   "metadata": {},
   "source": [
    "SELECT DISTINCT Office_Term_Start, Office_Term_End, (Office_Term_Start - Office_Term_End) as diff from Taoiseach;"
   ]
  },
  {
   "cell_type": "markdown",
   "metadata": {},
   "source": [
    "#### Q.3. (g) Which political party has held the office of Taoiseach for the largest number of Dáils?"
   ]
  },
  {
   "cell_type": "raw",
   "metadata": {},
   "source": [
    "SELECT a.Party from (select count(DISTINCT No_of_Times_Elected )as A, Party from Taoiseach GROUP BY Party ORDER BY count(DISTINCT No_of_Times_Elected)) a order by a.A desc limit 1;"
   ]
  },
  {
   "cell_type": "markdown",
   "metadata": {},
   "source": [
    "#### Q.3. (h) Which individual politician has held the office of Taoiseach for the most number of Dáils?"
   ]
  },
  {
   "cell_type": "raw",
   "metadata": {},
   "source": [
    "SELECT a.Name from (select count(DISTINCT No_of_Times_Elected)as  A, Name from Taoiseach GROUP BY Name ORDER BY count(DISTINCT No_of_Times_Elected) ) a ORDER BY a.A desc limit 1;"
   ]
  },
  {
   "cell_type": "markdown",
   "metadata": {},
   "source": [
    "#### Q.3. (i) What age was each Taoiseach on the day they assumed office?"
   ]
  },
  {
   "cell_type": "raw",
   "metadata": {},
   "source": [
    "SELECT DISTINCT Name, Date_of_Birth, Office_Term_Start, (Office_Term_Start - Date_of_Birth) as Age_In_Days from Taoiseach;"
   ]
  },
  {
   "cell_type": "markdown",
   "metadata": {},
   "source": [
    "#### Q.3. (j) On the last day of their term of office, which politician was the oldest?"
   ]
  },
  {
   "cell_type": "raw",
   "metadata": {},
   "source": [
    "select a.Name from (SELECT Name, Date_of_Birth, Office_Term_End, (Office_Term_End - Date_of_Birth) as AGE_In_Days from Taoiseach) a order by a.AGE_In_Days desc limit 1;"
   ]
  },
  {
   "cell_type": "markdown",
   "metadata": {},
   "source": [
    "#### Q.3. (k) In your view, and based on statistics calculated from your scraped data, which Irish political party is the most successful? Show and describe your calculations."
   ]
  },
  {
   "cell_type": "raw",
   "metadata": {},
   "source": [
    "In my view, Fianna Fáil was the most successfull Irish political party, with a supporting evidence from the earlier question numbers Q.3.(b) which produces higher number of Taoiseach, Q.3.(g) party that hold the office of Taoiseach for largest number of Dails."
   ]
  },
  {
   "cell_type": "markdown",
   "metadata": {},
   "source": [
    "### Conclusion\n",
    "\n",
    "We have succssfully, created a automated python script that extracts <b>\"web-data\"</b> and store it in a database using python embedded package and help answer some questions listed using the extracted data.\n",
    "The skill of extracting usable data from raw HTML is an important skill, which in real-time helps data analyst extract the information and help answer business their business problems.\n",
    "\n",
    "Thank's for your valuable time to read and review the work and I'am open to any suggestions and feedbacks realted to my work."
   ]
  }
 ],
 "metadata": {
  "kernelspec": {
   "display_name": "Python 3",
   "language": "python",
   "name": "python3"
  },
  "language_info": {
   "codemirror_mode": {
    "name": "ipython",
    "version": 3
   },
   "file_extension": ".py",
   "mimetype": "text/x-python",
   "name": "python",
   "nbconvert_exporter": "python",
   "pygments_lexer": "ipython3",
   "version": "3.7.3"
  }
 },
 "nbformat": 4,
 "nbformat_minor": 2
}
